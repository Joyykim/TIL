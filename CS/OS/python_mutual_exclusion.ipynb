{
 "cells": [
  {
   "cell_type": "markdown",
   "metadata": {},
   "source": [
    "### 실습1: Thread"
   ]
  },
  {
   "cell_type": "code",
   "execution_count": 4,
   "metadata": {
    "scrolled": true
   },
   "outputs": [
    {
     "name": "stdout",
     "output_type": "stream",
     "text": [
      "g_count =  11175135\n"
     ]
    }
   ],
   "source": [
    "import threading, time, os\n",
    "\n",
    "g_count = 0\n",
    "def thread_main():\n",
    "    \n",
    "    global g_count\n",
    "    #print ('parent process:', os.getppid())\n",
    "    #print ('process id:', os.getpid())    \n",
    "    \n",
    "    for i in range(1000000):\n",
    "        g_count = g_count + 1\n",
    "\n",
    "threads = list()\n",
    "for i in range(50):\n",
    "    # argument 필요시, threading.Thread(target=thread_main, args=(1, 100000))\n",
    "    th = threading.Thread(target = thread_main)\n",
    "    threads.append(th)\n",
    "\n",
    "for th in threads:\n",
    "    th.start()\n",
    "\n",
    "for th in threads:\n",
    "    th.join()    \n",
    "print ('g_count = ', g_count)"
   ]
  },
  {
   "cell_type": "markdown",
   "metadata": {},
   "source": [
    "### 실습1: Multi Process\n",
    "- multiprocessing 라이브러리를 사용해서, 멀티 프로세스 생성 가능\n",
    "- os 라이브러리를 사용해서, 프로세스별 Process ID 확인 가능"
   ]
  },
  {
   "cell_type": "code",
   "execution_count": 5,
   "metadata": {},
   "outputs": [
    {
     "name": "stdout",
     "output_type": "stream",
     "text": [
      "Main process: 4009 \n",
      "\n",
      "parent process: 4009\n",
      "process id: 4192\n",
      "parent process: 4009\n",
      "process id: 4193\n",
      "parent process: 4009\n",
      "process id: 4194\n",
      "parent process: 4009\n",
      "process id: 4195\n",
      "parent process: 4009\n",
      "process id: 4196\n",
      "parent process: 4009\n",
      "process id: 4197\n",
      "parent process: 4009\n",
      "process id: 4198\n",
      "parent process: 4009\n",
      "process id: 4199\n",
      "parent process: 4009\n",
      "process id: 4200\n",
      "parent process: 4009\n",
      "process id: 4201\n",
      "parent process: 4009\n",
      "process id: 4202\n",
      "parent process: 4009\n",
      "process id: 4203\n",
      "parent process: 4009\n",
      "process id: 4204\n",
      "parent process: 4009\n",
      "process id: 4205\n",
      "parent process: 4009\n",
      "process id: 4206\n",
      "parent process: 4009\n",
      "process id: 4207\n",
      "parent process: 4009\n",
      "process id: 4208\n",
      "parent process: 4009\n",
      "process id: 4209\n",
      "parent process: 4009\n",
      "process id: 4210\n",
      "parent process: 4009\n",
      "process id: 4211\n",
      "parent process: 4009\n",
      "process id: 4212\n",
      "parent process: 4009\n",
      "process id: 4213\n",
      "parent process: 4009\n",
      "process id: 4214\n",
      "parent process: 4009\n",
      "process id: 4215\n",
      "parent process: 4009\n",
      "process id: 4216\n",
      "parent process: 4009\n",
      "process id: 4217\n",
      "parent process: 4009\n",
      "process id: 4218\n",
      "parent process: 4009\n",
      "process id: 4219\n",
      "parent process: 4009\n",
      "process id: 4220\n",
      "parent process: 4009\n",
      "process id: 4221\n",
      "parent process: 4009\n",
      "process id: 4222\n",
      "parent process: 4009\n",
      "process id: 4223\n",
      "parent process: 4009\n",
      "process id: 4224\n",
      "parent process: 4009\n",
      "process id: 4225\n",
      "parent process: 4009\n",
      "process id: 4226\n",
      "parent process: 4009\n",
      "process id: 4227\n",
      "parent process: 4009\n",
      "process id: 4228\n",
      "parent process: 4009\n",
      "process id: 4229\n",
      "parent process: 4009\n",
      "process id: 4230\n",
      "parent process: 4009\n",
      "process id: 4231\n",
      "parent process: 4009\n",
      "process id: 4232\n",
      "parent process: 4009\n",
      "process id: 4233\n",
      "parent process: 4009\n",
      "process id: 4234\n",
      "parent process: 4009\n",
      "process id: 4235\n",
      "parent process: 4009\n",
      "parent process: 4009\n",
      "parent process: 4009\n",
      "process id: 4238\n",
      "process id: 4236\n",
      "process id: 4237\n",
      "parent process: 4009\n",
      "process id: 4239\n",
      "parent process: 4009\n",
      "process id: 4240\n",
      "parent process: 4009\n",
      "process id: 4241\n",
      "g_count =  0\n"
     ]
    }
   ],
   "source": [
    "import multiprocessing, time, os\n",
    "\n",
    "g_count = 0\n",
    "def process_main():\n",
    "    print ('parent process:', os.getppid())\n",
    "    print ('process id:', os.getpid())    \n",
    "    global g_count\n",
    "    for i in range(1000000):\n",
    "        g_count = g_count + 1\n",
    "\n",
    "processes = list()\n",
    "print ('Main process:', os.getpid(), '\\n')\n",
    "for i in range(50):\n",
    "    process = multiprocessing.Process(target=process_main, args=())\n",
    "    processes.append(process)\n",
    "\n",
    "for process in processes:\n",
    "    process.start()\n",
    "for process in processes:\n",
    "    process.join()\n",
    "\n",
    "print ('g_count = ', g_count)"
   ]
  },
  {
   "cell_type": "markdown",
   "metadata": {},
   "source": [
    "- 프로세스 함수에 argument 추가하는 경우"
   ]
  },
  {
   "cell_type": "code",
   "execution_count": 42,
   "metadata": {},
   "outputs": [
    {
     "name": "stdout",
     "output_type": "stream",
     "text": [
      "parent process: 27329\n",
      "process id: 40952\n",
      "parent process: 27329\n",
      "process id: 40953\n",
      "Dave\n",
      "Dave\n",
      "parent process: 27329\n",
      "process id: 40954\n",
      "Dave\n",
      "parent process: 27329\n",
      "process id: 40955\n",
      "Dave\n",
      "parent process: 27329\n",
      "process id: 40956\n",
      "Dave\n",
      "parent process: 27329\n",
      "process id: 40957\n",
      "Dave\n",
      "parent process: 27329\n",
      "process id: 40958\n",
      "Dave\n",
      "parent process: 27329\n",
      "process id: 40959\n",
      "Dave\n",
      "parent process: 27329\n",
      "process id: 40960\n",
      "Dave\n",
      "parent process: 27329\n",
      "process id: 40961\n",
      "Dave\n",
      "parent process: 27329\n",
      "process id: 40962\n",
      "Dave\n",
      "parent process: 27329\n",
      "process id: 40963\n",
      "Dave\n",
      "parent process: 27329\n",
      "process id: 40964\n",
      "Dave\n",
      "parent process: 27329\n",
      "process id: 40965\n",
      "Dave\n",
      "parent process: 27329\n",
      "process id: 40966\n",
      "Dave\n",
      "parent process: 27329\n",
      "process id: 40967\n",
      "Dave\n",
      "parent process: 27329\n",
      "process id: 40968\n",
      "Dave\n",
      "parent process: 27329\n",
      "process id: 40969\n",
      "Dave\n",
      "parent process: 27329\n",
      "process id: 40970\n",
      "Dave\n",
      "parent process: 27329\n",
      "process id: 40971\n",
      "Dave\n",
      "parent process: 27329\n",
      "process id: 40972\n",
      "Dave\n",
      "parent process: 27329\n",
      "process id: 40973\n",
      "Dave\n",
      "parent process: 27329\n",
      "process id: 40974\n",
      "Dave\n",
      "parent process: 27329\n",
      "process id: 40975\n",
      "Dave\n",
      "parent process: 27329\n",
      "process id: 40976\n",
      "Dave\n",
      "parent process: 27329\n",
      "process id: 40977\n",
      "Dave\n",
      "parent process: 27329\n",
      "process id: 40978\n",
      "Dave\n",
      "parent process: 27329\n",
      "process id: 40979\n",
      "Dave\n",
      "parent process: 27329\n",
      "process id: 40980\n",
      "Dave\n",
      "parent process: 27329\n",
      "process id: 40981\n",
      "Dave\n",
      "parent process: 27329\n",
      "process id: 40982\n",
      "Dave\n",
      "parent process: 27329\n",
      "process id: 40983\n",
      "Dave\n",
      "parent process: 27329\n",
      "process id: 40984\n",
      "Dave\n",
      "parent process: 27329\n",
      "process id: 40985\n",
      "Dave\n",
      "parent process: 27329\n",
      "process id: 40986\n",
      "Dave\n",
      "parent process: 27329\n",
      "process id: 40987\n",
      "Dave\n",
      "parent process: 27329\n",
      "process id: 40988\n",
      "Dave\n",
      "parent process: 27329\n",
      "process id: 40989\n",
      "Dave\n",
      "parent process: 27329\n",
      "process id: 40990\n",
      "Dave\n",
      "parent process: 27329\n",
      "process id: 40991\n",
      "Dave\n",
      "parent process: 27329\n",
      "process id: 40992\n",
      "Dave\n",
      "parent process: 27329\n",
      "process id: 40993\n",
      "Dave\n",
      "parent process: 27329\n",
      "process id: 40994\n",
      "Dave\n",
      "parent process: 27329\n",
      "process id: 40995\n",
      "Dave\n",
      "parent process: 27329\n",
      "process id: 40996\n",
      "Dave\n",
      "parent process: 27329\n",
      "process id: 40997\n",
      "Dave\n",
      "parent process: 27329\n",
      "process id: 40998\n",
      "Dave\n",
      "parent process: 27329\n",
      "process id: 40999\n",
      "Dave\n",
      "parent process: 27329\n",
      "process id: 41000\n",
      "Dave\n",
      "parent process: 27329\n",
      "process id: 41001\n",
      "Dave\n"
     ]
    }
   ],
   "source": [
    "import multiprocessing, time, os\n",
    "\n",
    "def process_main(name):\n",
    "    print ('parent process:', os.getppid())\n",
    "    print ('process id:', os.getpid())\n",
    "    print (name)\n",
    "\n",
    "processes = list()\n",
    "for i in range(50):\n",
    "    process = multiprocessing.Process(target=process_main, args=('Dave', ))\n",
    "    processes.append(process)\n",
    "\n",
    "for process in processes:\n",
    "    process.start()\n",
    "for process in processes:\n",
    "    process.join()"
   ]
  },
  {
   "cell_type": "markdown",
   "metadata": {},
   "source": [
    "### 실습2: Multi Thread 이슈\n",
    "- 왜 g_count 값은 정상적으로 출력되지 않을까?"
   ]
  },
  {
   "cell_type": "code",
   "execution_count": 32,
   "metadata": {},
   "outputs": [
    {
     "name": "stdout",
     "output_type": "stream",
     "text": [
      "g_count =  4297463\n"
     ]
    }
   ],
   "source": [
    "import threading\n",
    "\n",
    "g_count = 0\n",
    "def thread_main():\n",
    "    global g_count\n",
    "    for i in range(100000):\n",
    "        g_count = g_count + 1\n",
    "\n",
    "threads = list()\n",
    "for i in range(50):\n",
    "    th = threading.Thread(target = thread_main)\n",
    "    threads.append(th)\n",
    "\n",
    "for th in threads:\n",
    "    th.start()\n",
    "\n",
    "for th in threads:\n",
    "    th.join()\n",
    "    \n",
    "print ('g_count = ', g_count)"
   ]
  },
  {
   "cell_type": "code",
   "execution_count": 29,
   "metadata": {},
   "outputs": [
    {
     "data": {
      "text/plain": [
       "5000000"
      ]
     },
     "execution_count": 29,
     "metadata": {},
     "output_type": "execute_result"
    }
   ],
   "source": [
    "50*100000"
   ]
  },
  {
   "cell_type": "markdown",
   "metadata": {},
   "source": [
    "### 실습3: 동기화 해결 기법\n",
    "#### mutual exclusion\n",
    "  * threading.Lock(), lock.acquire(), lock.release()"
   ]
  },
  {
   "cell_type": "code",
   "execution_count": 5,
   "metadata": {},
   "outputs": [
    {
     "ename": "KeyboardInterrupt",
     "evalue": "",
     "output_type": "error",
     "traceback": [
      "\u001b[0;31m---------------------------------------------------------------\u001b[0m",
      "\u001b[0;31mKeyboardInterrupt\u001b[0m             Traceback (most recent call last)",
      "\u001b[0;32m<ipython-input-5-94ecbe50bf02>\u001b[0m in \u001b[0;36m<module>\u001b[0;34m\u001b[0m\n\u001b[1;32m     22\u001b[0m \u001b[0;34m\u001b[0m\u001b[0m\n\u001b[1;32m     23\u001b[0m \u001b[0;32mfor\u001b[0m \u001b[0mth\u001b[0m \u001b[0;32min\u001b[0m \u001b[0mthreads\u001b[0m\u001b[0;34m:\u001b[0m\u001b[0;34m\u001b[0m\u001b[0;34m\u001b[0m\u001b[0m\n\u001b[0;32m---> 24\u001b[0;31m     \u001b[0mth\u001b[0m\u001b[0;34m.\u001b[0m\u001b[0mjoin\u001b[0m\u001b[0;34m(\u001b[0m\u001b[0;34m)\u001b[0m\u001b[0;34m\u001b[0m\u001b[0;34m\u001b[0m\u001b[0m\n\u001b[0m\u001b[1;32m     25\u001b[0m \u001b[0;34m\u001b[0m\u001b[0m\n\u001b[1;32m     26\u001b[0m \u001b[0;34m\u001b[0m\u001b[0m\n",
      "\u001b[0;32m/opt/anaconda3/lib/python3.7/threading.py\u001b[0m in \u001b[0;36mjoin\u001b[0;34m(self, timeout)\u001b[0m\n\u001b[1;32m   1042\u001b[0m \u001b[0;34m\u001b[0m\u001b[0m\n\u001b[1;32m   1043\u001b[0m         \u001b[0;32mif\u001b[0m \u001b[0mtimeout\u001b[0m \u001b[0;32mis\u001b[0m \u001b[0;32mNone\u001b[0m\u001b[0;34m:\u001b[0m\u001b[0;34m\u001b[0m\u001b[0;34m\u001b[0m\u001b[0m\n\u001b[0;32m-> 1044\u001b[0;31m             \u001b[0mself\u001b[0m\u001b[0;34m.\u001b[0m\u001b[0m_wait_for_tstate_lock\u001b[0m\u001b[0;34m(\u001b[0m\u001b[0;34m)\u001b[0m\u001b[0;34m\u001b[0m\u001b[0;34m\u001b[0m\u001b[0m\n\u001b[0m\u001b[1;32m   1045\u001b[0m         \u001b[0;32melse\u001b[0m\u001b[0;34m:\u001b[0m\u001b[0;34m\u001b[0m\u001b[0;34m\u001b[0m\u001b[0m\n\u001b[1;32m   1046\u001b[0m             \u001b[0;31m# the behavior of a negative timeout isn't documented, but\u001b[0m\u001b[0;34m\u001b[0m\u001b[0;34m\u001b[0m\u001b[0;34m\u001b[0m\u001b[0m\n",
      "\u001b[0;32m/opt/anaconda3/lib/python3.7/threading.py\u001b[0m in \u001b[0;36m_wait_for_tstate_lock\u001b[0;34m(self, block, timeout)\u001b[0m\n\u001b[1;32m   1058\u001b[0m         \u001b[0;32mif\u001b[0m \u001b[0mlock\u001b[0m \u001b[0;32mis\u001b[0m \u001b[0;32mNone\u001b[0m\u001b[0;34m:\u001b[0m  \u001b[0;31m# already determined that the C code is done\u001b[0m\u001b[0;34m\u001b[0m\u001b[0;34m\u001b[0m\u001b[0m\n\u001b[1;32m   1059\u001b[0m             \u001b[0;32massert\u001b[0m \u001b[0mself\u001b[0m\u001b[0;34m.\u001b[0m\u001b[0m_is_stopped\u001b[0m\u001b[0;34m\u001b[0m\u001b[0;34m\u001b[0m\u001b[0m\n\u001b[0;32m-> 1060\u001b[0;31m         \u001b[0;32melif\u001b[0m \u001b[0mlock\u001b[0m\u001b[0;34m.\u001b[0m\u001b[0macquire\u001b[0m\u001b[0;34m(\u001b[0m\u001b[0mblock\u001b[0m\u001b[0;34m,\u001b[0m \u001b[0mtimeout\u001b[0m\u001b[0;34m)\u001b[0m\u001b[0;34m:\u001b[0m\u001b[0;34m\u001b[0m\u001b[0;34m\u001b[0m\u001b[0m\n\u001b[0m\u001b[1;32m   1061\u001b[0m             \u001b[0mlock\u001b[0m\u001b[0;34m.\u001b[0m\u001b[0mrelease\u001b[0m\u001b[0;34m(\u001b[0m\u001b[0;34m)\u001b[0m\u001b[0;34m\u001b[0m\u001b[0;34m\u001b[0m\u001b[0m\n\u001b[1;32m   1062\u001b[0m             \u001b[0mself\u001b[0m\u001b[0;34m.\u001b[0m\u001b[0m_stop\u001b[0m\u001b[0;34m(\u001b[0m\u001b[0;34m)\u001b[0m\u001b[0;34m\u001b[0m\u001b[0;34m\u001b[0m\u001b[0m\n",
      "\u001b[0;31mKeyboardInterrupt\u001b[0m: "
     ]
    }
   ],
   "source": [
    "import threading\n",
    "\n",
    "g_count = 0\n",
    "\n",
    "def thread_main():\n",
    "    global g_count\n",
    "    lock.acquire()           #2\n",
    "    for i in range(10000000):\n",
    "        g_count = g_count + 1\n",
    "    lock.release()           #3\n",
    "\n",
    "lock = threading.Lock()      #1\n",
    "threads = []\n",
    "\n",
    "for i in range(50):\n",
    "    th = threading.Thread(target = thread_main)\n",
    "    threads.append(th)\n",
    "\n",
    "for th in threads:\n",
    "    th.start()\n",
    "\n",
    "for th in threads:\n",
    "    th.join()\n",
    "\n",
    "    \n",
    "print ('g_count = ', g_count)"
   ]
  },
  {
   "cell_type": "markdown",
   "metadata": {},
   "source": [
    "#### 참고: semaphore\n",
    "* threading.Semaphore(2), lock.acquire(), lock.release()"
   ]
  },
  {
   "cell_type": "code",
   "execution_count": 48,
   "metadata": {},
   "outputs": [
    {
     "name": "stdout",
     "output_type": "stream",
     "text": [
      "g_count =  3969592\n"
     ]
    }
   ],
   "source": [
    "import threading\n",
    "\n",
    "g_count = 0\n",
    "\n",
    "def thread_main():\n",
    "    global g_count\n",
    "    lock.acquire()\n",
    "    for i in range(100000):\n",
    "        g_count = g_count + 1\n",
    "    lock.release()\n",
    "\n",
    "lock = threading.Semaphore(2)\n",
    "threads = []\n",
    "\n",
    "for i in range(50):\n",
    "    th = threading.Thread(target = thread_main)\n",
    "    threads.append(th)\n",
    "\n",
    "for th in threads:\n",
    "    th.start()\n",
    "\n",
    "for th in threads:\n",
    "    th.join()\n",
    "\n",
    "    \n",
    "print ('g_count = ', g_count)"
   ]
  },
  {
   "cell_type": "markdown",
   "metadata": {},
   "source": [
    "### 실습4: Python Thread 가 효과가 있는 경우\n",
    "- 쓰레드가 CPU job 만 있지 않은 경우"
   ]
  },
  {
   "cell_type": "code",
   "execution_count": 6,
   "metadata": {},
   "outputs": [
    {
     "name": "stdout",
     "output_type": "stream",
     "text": [
      "g_count =  5000000\n",
      "0.3758869171142578\n"
     ]
    }
   ],
   "source": [
    "import threading\n",
    "import time\n",
    "g_count = 0\n",
    "\n",
    "def thread_main():\n",
    "    global g_count\n",
    "    lock.acquire()        \n",
    "    for i in range(50000):\n",
    "        g_count = g_count + 1\n",
    "    lock.release()           #3        \n",
    "    time.sleep(0.1)\n",
    "\n",
    "    lock.acquire()        \n",
    "    for i in range(50000):\n",
    "        g_count = g_count + 1\n",
    "    lock.release()           #3        \n",
    "\n",
    "lock = threading.Lock()      #1        \n",
    "threads = []\n",
    "for i in range(50):\n",
    "    th = threading.Thread(target = thread_main)\n",
    "    threads.append(th)\n",
    "\n",
    "start = time.time()  # 시작 시간 저장    \n",
    "for th in threads:\n",
    "    th.start()\n",
    "\n",
    "for th in threads:\n",
    "    th.join()\n",
    "    \n",
    "print ('g_count = ', g_count)\n",
    "print (time.time() - start)"
   ]
  },
  {
   "cell_type": "markdown",
   "metadata": {},
   "source": [
    "- 쓰레드 없을 때의 성능 비교 (비교)"
   ]
  },
  {
   "cell_type": "code",
   "execution_count": 7,
   "metadata": {},
   "outputs": [
    {
     "name": "stdout",
     "output_type": "stream",
     "text": [
      "g_count =  5000000\n",
      "5.620772123336792\n"
     ]
    }
   ],
   "source": [
    "import threading\n",
    "import time\n",
    "g_count = 0\n",
    "\n",
    "def thread_main():\n",
    "    global g_count\n",
    "    for i in range(50000):\n",
    "        g_count = g_count + 1\n",
    "    time.sleep(0.1)        \n",
    "    for i in range(50000):\n",
    "        g_count = g_count + 1\n",
    "\n",
    "start = time.time()  # 시작 시간 저장    \n",
    "for i in range(50):\n",
    "    thread_main()\n",
    "    \n",
    "print ('g_count = ', g_count)\n",
    "print (time.time() - start)"
   ]
  },
  {
   "cell_type": "code",
   "execution_count": null,
   "metadata": {},
   "outputs": [],
   "source": []
  }
 ],
 "metadata": {
  "kernelspec": {
   "display_name": "Python 3",
   "language": "python",
   "name": "python3"
  },
  "language_info": {
   "codemirror_mode": {
    "name": "ipython",
    "version": 3
   },
   "file_extension": ".py",
   "mimetype": "text/x-python",
   "name": "python",
   "nbconvert_exporter": "python",
   "pygments_lexer": "ipython3",
   "version": "3.7.7"
  },
  "nbTranslate": {
   "displayLangs": [
    "*"
   ],
   "hotkey": "alt-t",
   "langInMainMenu": true,
   "sourceLang": "en",
   "targetLang": "fr",
   "useGoogleTranslate": true
  }
 },
 "nbformat": 4,
 "nbformat_minor": 2
}
